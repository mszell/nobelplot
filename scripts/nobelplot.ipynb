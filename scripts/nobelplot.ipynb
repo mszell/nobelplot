{
 "cells": [
  {
   "cell_type": "markdown",
   "metadata": {},
   "source": [
    "# Nobelplot"
   ]
  },
  {
   "cell_type": "markdown",
   "metadata": {},
   "source": [
    "This notebook creates the interactive versions of Fig. 2a and Fig. 2b of the paper \"Interdisciplinarity: A Nobel Opportunity\" by Michael Szell, Yifang Ma, and Roberta Sinatra. Data is from Web of Science.\n",
    "\n",
    "Created on:  2018-07-21  \n",
    "Last update: 2018-07-21  \n",
    "Contact: michael.szell@gmail.com (Michael Szell)"
   ]
  },
  {
   "cell_type": "markdown",
   "metadata": {},
   "source": [
    "## Preliminaries"
   ]
  },
  {
   "cell_type": "code",
   "execution_count": 1,
   "metadata": {
    "collapsed": false
   },
   "outputs": [],
   "source": [
    "from bokeh.layouts import row\n",
    "from bokeh.plotting import figure, show, output_file, ColumnDataSource\n",
    "from bokeh.models import HoverTool\n",
    "from bokeh.models.glyphs import Text\n",
    "from collections import OrderedDict\n",
    "import csv\n",
    "import math"
   ]
  },
  {
   "cell_type": "code",
   "execution_count": 2,
   "metadata": {
    "collapsed": true
   },
   "outputs": [],
   "source": [
    "plotwidth = 600\n",
    "boundary = 50\n",
    "\n",
    "def triple2ternary(triple, pw=800):\n",
    "    # normalize \n",
    "    triple = [float(i)/sum(triple) for i in triple]\n",
    "    y = triple[2] * math.sin(math.radians(60));\n",
    "    x = 1 - triple[0] - y * 1/math.tan(math.radians(60));\n",
    "    y = 1-y\n",
    "    return pw*x,pw*y\n",
    "\n",
    "def citation2size(cit):\n",
    "    return int(plotwidth/440 * (round(math.sqrt(600.*float(cit)/8320))+4))"
   ]
  },
  {
   "cell_type": "markdown",
   "metadata": {},
   "source": [
    "## Interdisciplinary papers"
   ]
  },
  {
   "cell_type": "code",
   "execution_count": 3,
   "metadata": {
    "collapsed": true
   },
   "outputs": [],
   "source": [
    "# https://stackoverflow.com/questions/19486369/extract-csv-file-specific-columns-to-list-in-python/19487003\n",
    "with open('../data/top220interdisciplinary.csv', 'r', encoding='utf-8-sig', errors='ignore') as infile:\n",
    "  # read the file as a dictionary for each row ({header : value})\n",
    "  reader = csv.DictReader(infile)\n",
    "  datatop220 = {}\n",
    "  top220ranks = []\n",
    "  for row in reader:\n",
    "    for header, value in row.items():\n",
    "        if header == \"Citation rank within Top 10000\": \n",
    "            top220ranks.append(value)\n",
    "        try:\n",
    "            datatop220[header].append(value.replace(u'\\xa0', u' '))\n",
    "        except KeyError:\n",
    "            datatop220[header] = [value.replace(u'\\xa0', u' ')]\n",
    "\n",
    "with open('../data/top10000.csv', 'r', encoding='utf-8-sig') as infile:\n",
    "  # read the file as a dictionary for each row ({header : value})\n",
    "  reader = csv.DictReader(infile)\n",
    "  datatop10000 = {}\n",
    "  for row in reader:\n",
    "    for header, value in row.items():\n",
    "        try:\n",
    "            datatop10000[header].append(value.replace(u'\\xa0', u' '))\n",
    "        except KeyError:\n",
    "            datatop10000[header] = [value.replace(u'\\xa0', u' ')]\n",
    "\n",
    "headers = [\"Life Sciences\", \"Physics\", \"Chemistry\", \"Sums of cits\"]\n",
    "for i in top220ranks:\n",
    "    for h in headers:\n",
    "        try:\n",
    "            datatop220[h].append(int(round(float(datatop10000[h][int(i)]))))\n",
    "        except KeyError:\n",
    "            datatop220[h] = [int(round(float(datatop10000[h][int(i)])))]\n",
    "        \n",
    "datatop220['x'] = [triple2ternary([int(i),int(j),int(k)], plotwidth)[0] for i,j,k in zip(datatop220['Life Sciences'], datatop220['Physics'], datatop220['Chemistry'])]\n",
    "datatop220['y'] = [triple2ternary([int(i),int(j),int(k)], plotwidth)[1] for i,j,k in zip(datatop220['Life Sciences'], datatop220['Physics'], datatop220['Chemistry'])]\n",
    "datatop220['color'] = ['#3c2152' if i == \"Artificial intelligence\" else '#9b226d' if i == \"Network science\" else '#eb96a9' if i == \"Geology\" else '#fbddd5' if i == \"Signal processing\" else '#fffdf9' if i == \"Quantum dots\" else '#808180' for i in datatop220['Subfield']]\n",
    "datatop220['alpha'] = [0.92 if i else 0.25 for i in datatop220['Subfield']]\n",
    "datatop220['line_color'] = [\"#1a1919\" if i else \"#b4b5b4\" for i in datatop220['Subfield']]\n",
    "datatop220['size'] = [citation2size(i) for i in datatop220['Sums of cits']]\n",
    "datatop220['titletruncated'] = [(i[:65] + '..').capitalize() if len(i) > 65 else i.capitalize() for i in datatop220['Title']]\n",
    "datatop220['c_other'] = [int(c)-int(c1)-int(c2)-int(c3) for c1,c2,c3,c in zip(datatop220['Life Sciences'], datatop220['Physics'], datatop220['Chemistry'], datatop220['Sums of cits'])]\n",
    "datatop220['c_rank'] = [int(i)+1 for i in datatop220['Citation rank within Top 10000']]\n",
    "datatop220['Journal'] = [i.capitalize() for i in datatop220['Journal']]\n",
    "datatop220['Authors'] = [(i[:65] + '..').replace(\";\", \",\") if len(i) > 65 else i.replace(\";\", \",\") for i in datatop220['Authors']]\n",
    "\n",
    "sourcetop220 = ColumnDataSource(data=dict(\n",
    "    x = datatop220['x'],\n",
    "    y = datatop220['y'],\n",
    "    color = datatop220['color'],\n",
    "    line_color = datatop220['line_color'],\n",
    "    alpha = datatop220['alpha'],\n",
    "    size = datatop220['size'],\n",
    "    subfield = datatop220['Subfield'],\n",
    "    publicationyear = datatop220['Publication year'],\n",
    "    c_lifesciences = datatop220['Life Sciences'],\n",
    "    c_physics = datatop220['Physics'],\n",
    "    c_chemistry = datatop220['Chemistry'],\n",
    "    c_total = datatop220['Sums of cits'],\n",
    "    c_other = datatop220['c_other'],\n",
    "    c_rank = datatop220['c_rank'],\n",
    "    authors = datatop220['Authors'],\n",
    "    title = datatop220['titletruncated'],\n",
    "    journal = datatop220['Journal']\n",
    "))"
   ]
  },
  {
   "cell_type": "code",
   "execution_count": 4,
   "metadata": {
    "collapsed": true
   },
   "outputs": [],
   "source": [
    "# https://bokeh.pydata.org/en/latest/docs/user_guide/tools.html\n",
    "hover = HoverTool(names=[\"papers\"], tooltips=\"\"\"\n",
    "    <div style=\"text-shadow: #000 0px 0px 0.5px, #000 0px 0px 0.5px; font-size: 14px;margin-bottom: 10px;font-weight: bold;color: @color\">\n",
    "        @subfield\n",
    "    </div>\n",
    "    <div style=\"margin-bottom: 10px;font-size: 12px\">\n",
    "        <span style=\"\">@authors</br>@title</br>@journal, @publicationyear</span>\n",
    "    </div>\n",
    "    <div style=\"font-size: 12px;font-weight: bold\">\n",
    "        Citations: @c_total = <span style=\"color: #205483\">@c_lifesciences </span> + <span style=\"color: #b26d24\">@c_physics </span> + <span style=\"color: #96932c\">@c_chemistry </span> + <span style=\"color: #999999\">@c_other</span></br>\n",
    "    </div>\n",
    "    \"\"\"\n",
    ")"
   ]
  },
  {
   "cell_type": "code",
   "execution_count": 5,
   "metadata": {
    "collapsed": false
   },
   "outputs": [],
   "source": [
    "top220plot = figure(title=\"The impact space of top-impact interdisciplinary papers\", tools=[hover,\"wheel_zoom\",\"pan\",\"box_zoom\",\"reset\"], toolbar_location=\"right\",\n",
    "            x_range=[0-boundary, plotwidth+boundary], y_range=[0-0.2*boundary, plotwidth+1.8*boundary], active_drag=\"pan\", active_scroll=\"wheel_zoom\",plot_width=plotwidth, plot_height=plotwidth)\n",
    "\n",
    "top220plot.patch([plotwidth*0.1,plotwidth*0.9,plotwidth*0.5,plotwidth*0.1], [plotwidth,plotwidth,plotwidth-0.8*plotwidth*math.sqrt(3)/2,plotwidth], alpha=1, line_width=0, color=\"#ede4ea\")\n",
    "top220plot.line(x=[0,plotwidth,0.5*plotwidth,0], y=[plotwidth,plotwidth,plotwidth-plotwidth*math.sqrt(3)/2,plotwidth], line_color=\"#1a1919\", line_width=2, line_alpha=1)\n",
    "top220plot.circle('x', 'y', size=\"size\", fill_color=\"color\", name=\"papers\", fill_alpha=\"alpha\", line_alpha=\"alpha\", line_color=\"line_color\", line_width=1.5, source=sourcetop220)\n",
    "\n",
    "source2 = ColumnDataSource(dict(x=[boundary/2+70,plotwidth-boundary/2-45,plotwidth/2], y=[plotwidth+boundary/3,plotwidth+boundary/3,plotwidth-1.09*plotwidth*math.sqrt(3)/2], text=[\"Life Sciences\",\"Physics\",\"Chemistry\"], cols=[\"#205483\",\"#b26d24\",\"#96932c\"], text_align=[\"left\",\"right\",\"center\"]))\n",
    "glyph = Text(x=\"x\", y=\"y\", text=\"text\", text_color=\"cols\", text_align=\"center\", text_font_size=\"18pt\" )\n",
    "top220plot.add_glyph(source2, glyph)\n",
    "\n",
    "top220plot.axis.visible = False\n",
    "top220plot.xgrid.visible = False\n",
    "top220plot.ygrid.visible = False\n",
    "#nobelplot.outline_line_color = None\n",
    "\n",
    "output_file(\"../nobelplot.html\", title=\"Nobel plot\")\n",
    "show(top220plot)  # open a browser"
   ]
  },
  {
   "cell_type": "markdown",
   "metadata": {},
   "source": [
    "## Nobel Prize papers"
   ]
  },
  {
   "cell_type": "code",
   "execution_count": 6,
   "metadata": {
    "collapsed": false
   },
   "outputs": [],
   "source": [
    "# https://stackoverflow.com/questions/19486369/extract-csv-file-specific-columns-to-list-in-python/19487003\n",
    "with open('../data/nobelpapers.csv', 'r', encoding='utf-8-sig') as infile:\n",
    "  # read the file as a dictionary for each row ({header : value})\n",
    "  reader = csv.DictReader(infile)\n",
    "  datain = {}\n",
    "  for row in reader:\n",
    "    for header, value in row.items():\n",
    "      try:\n",
    "        datain[header].append(value.replace(u'\\xa0', u' '))\n",
    "      except KeyError:\n",
    "        datain[header] = [value.replace(u'\\xa0', u' ')]\n",
    "\n",
    "datain['x'] = [triple2ternary([int(i),int(j),int(k)], plotwidth)[0] for i,j,k in zip(datain['Life Sciences'], datain['Physics'], datain['Chemistry'])]\n",
    "datain['y'] = [triple2ternary([int(i),int(j),int(k)], plotwidth)[1] for i,j,k in zip(datain['Life Sciences'], datain['Physics'], datain['Chemistry'])]\n",
    "datain['color'] = ['#286aa6' if i == \"Physiology/Medicine\" else '#f6ea3e' if i == \"Chemistry\" else '#ea8c2e' for i in datain['Discipline']]\n",
    "datain['colordark'] = ['#205483' if i == \"Physiology/Medicine\" else '#96932c' if i == \"Chemistry\" else '#b26d24' for i in datain['Discipline']]\n",
    "datain['size'] = [citation2size(i) for i in datain['Total citations after 10 years']]\n",
    "datain['laureates'] = [(l1+\", \"+l2+\", \"+l3).strip(\", \") for l1,l2,l3 in zip(datain['Laureate1'], datain['Laureate2'], datain['Laureate3'])]\n",
    "datain['titletruncated'] = [(i[:65] + '..') if len(i) > 65 else i for i in datain['Title']]\n",
    "datain['c_other'] = [int(c)-int(c1)-int(c2)-int(c3) for c1,c2,c3,c in zip(datain['Life Sciences'], datain['Physics'], datain['Chemistry'], datain['Total citations after 10 years'])]\n",
    "\n",
    "source = ColumnDataSource(data=dict(\n",
    "    x = datain['x'],\n",
    "    y = datain['y'],\n",
    "    color = datain['color'],\n",
    "    colordark = datain['colordark'],\n",
    "    size = datain['size'],\n",
    "    discipline = datain['Discipline'],\n",
    "    publicationyear = datain['Publication Year'],\n",
    "    c_lifesciences = datain['Life Sciences'],\n",
    "    c_physics = datain['Physics'],\n",
    "    c_chemistry = datain['Chemistry'],\n",
    "    c_total = datain['Total citations after 10 years'],\n",
    "    c_other = datain['c_other'],\n",
    "    authors = datain['Authors'],\n",
    "    title = datain['titletruncated'],\n",
    "    journal = datain['Journal'],\n",
    "    vol = datain['Vol/Issue/Page'],\n",
    "    nobelyear = datain['Nobel Year'],\n",
    "    laureates = datain['laureates']\n",
    "))"
   ]
  },
  {
   "cell_type": "code",
   "execution_count": 7,
   "metadata": {
    "collapsed": true
   },
   "outputs": [],
   "source": [
    "# https://bokeh.pydata.org/en/latest/docs/user_guide/tools.html\n",
    "hover = HoverTool(names=[\"papers\"], tooltips=\"\"\"\n",
    "    <div style=\"font-size: 14px;margin-bottom: 10px;font-weight: bold\">\n",
    "        Nobel Prize @nobelyear in <span style=\"color: @colordark\">@discipline</span> to @laureates\n",
    "    </div>\n",
    "    <div style=\"margin-bottom: 10px;font-size: 12px\">\n",
    "        <span style=\"\">@authors</br>@title</br>@journal @vol, @publicationyear</span>\n",
    "    </div>\n",
    "    <div style=\"font-size: 12px;font-weight: bold\">\n",
    "        Citations: @c_total = <span style=\"color: #205483\">@c_lifesciences </span> + <span style=\"color: #b26d24\">@c_physics </span> + <span style=\"color: #96932c\">@c_chemistry </span> + <span style=\"color: #999999\">@c_other</span>\n",
    "    </div>\n",
    "    \"\"\"\n",
    ")"
   ]
  },
  {
   "cell_type": "code",
   "execution_count": 8,
   "metadata": {
    "collapsed": false
   },
   "outputs": [],
   "source": [
    "nobelplot = figure(title=\"The impact space of Nobel Prize winning papers\", tools=[hover,\"wheel_zoom\",\"pan\",\"box_zoom\",\"reset\"], toolbar_location=\"right\",\n",
    "            x_range=[0-boundary, plotwidth+boundary], y_range=[0-0.2*boundary, plotwidth+1.8*boundary], active_drag=\"pan\", active_scroll=\"wheel_zoom\",plot_width=plotwidth, plot_height=plotwidth)\n",
    "\n",
    "nobelplot.patch([plotwidth*0.1,plotwidth*0.9,plotwidth*0.5,plotwidth*0.1], [plotwidth,plotwidth,plotwidth-0.8*plotwidth*math.sqrt(3)/2,plotwidth], alpha=1, line_width=0, color=\"#ede4ea\")\n",
    "nobelplot.line(x=[0,plotwidth,0.5*plotwidth,0], y=[plotwidth,plotwidth,plotwidth-plotwidth*math.sqrt(3)/2,plotwidth], line_color=\"#1a1919\", line_width=2, line_alpha=1)\n",
    "nobelplot.circle('x', 'y', size=\"size\", fill_color=\"color\", name=\"papers\", fill_alpha= 0.92, line_color=\"#1a1919\", line_width=1.5, source=source)\n",
    "\n",
    "source2 = ColumnDataSource(dict(x=[boundary/2+70,plotwidth-boundary/2-45,plotwidth/2], y=[plotwidth+boundary/3,plotwidth+boundary/3,plotwidth-1.09*plotwidth*math.sqrt(3)/2], text=[\"Life Sciences\",\"Physics\",\"Chemistry\"], cols=[\"#205483\",\"#b26d24\",\"#96932c\"], text_align=[\"left\",\"right\",\"center\"]))\n",
    "glyph = Text(x=\"x\", y=\"y\", text=\"text\", text_color=\"cols\", text_align=\"center\", text_font_size=\"18pt\" )\n",
    "nobelplot.add_glyph(source2, glyph)\n",
    "\n",
    "nobelplot.axis.visible = False\n",
    "nobelplot.xgrid.visible = False\n",
    "nobelplot.ygrid.visible = False\n",
    "#nobelplot.outline_line_color = None\n",
    "\n",
    "output_file(\"../nobelplot.html\", title=\"Nobel plot\")\n",
    "show(nobelplot)  # open a browser"
   ]
  }
 ],
 "metadata": {
  "kernelspec": {
   "display_name": "Python 3",
   "language": "python",
   "name": "python3"
  },
  "language_info": {
   "codemirror_mode": {
    "name": "ipython",
    "version": 3
   },
   "file_extension": ".py",
   "mimetype": "text/x-python",
   "name": "python",
   "nbconvert_exporter": "python",
   "pygments_lexer": "ipython3",
   "version": "3.6.0"
  }
 },
 "nbformat": 4,
 "nbformat_minor": 2
}
